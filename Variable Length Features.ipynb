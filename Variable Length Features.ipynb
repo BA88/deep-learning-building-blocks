{
 "cells": [
  {
   "cell_type": "code",
   "execution_count": 3,
   "metadata": {},
   "outputs": [],
   "source": [
    "from sklearn.datasets import make_classification"
   ]
  },
  {
   "cell_type": "code",
   "execution_count": 7,
   "metadata": {},
   "outputs": [],
   "source": [
    "make_classification?"
   ]
  },
  {
   "cell_type": "code",
   "execution_count": 8,
   "metadata": {},
   "outputs": [],
   "source": [
    "base_dataset = make_classification(\n",
    "    n_samples=10_000, \n",
    "    n_features=30, \n",
    "    n_informative=10,\n",
    "    n_clusters_per_class=2,\n",
    "    n_classes=4)"
   ]
  },
  {
   "cell_type": "code",
   "execution_count": 10,
   "metadata": {},
   "outputs": [],
   "source": [
    "x, y = base_dataset"
   ]
  },
  {
   "cell_type": "code",
   "execution_count": 11,
   "metadata": {},
   "outputs": [],
   "source": [
    "base_classes = []\n",
    "\n",
    "for i in range(4):\n",
    "    base_classes.append(x[y == i])"
   ]
  },
  {
   "cell_type": "code",
   "execution_count": 54,
   "metadata": {},
   "outputs": [],
   "source": [
    "import numpy as np\n",
    "\n",
    "num_points = 5_000\n",
    "class1_dist = [.5, .5, 0, 0]\n",
    "class2_dist = [0, .2, .6, .2]\n",
    "\n",
    "def make_var_len_feature_point(dist):\n",
    "    feature_sets = []\n",
    "    num_features = np.random.randint(3, 11)\n",
    "    for _ in range(num_features):\n",
    "        # choose which distribution the customer comes from\n",
    "        base_class = np.random.choice([0, 1, 2, 3], 1, p=dist)\n",
    "        base_class_points = base_classes[base_class[0]]\n",
    "        feature_set_idx = np.random.choice(base_class_points.shape[0], 1)\n",
    "        feature_sets.append(base_class_points[feature_set_idx])\n",
    "        \n",
    "    for _ in range(10 - num_features):\n",
    "        feature_sets.append(np.zeros((1, 30)))\n",
    "\n",
    "    return np.concatenate(feature_sets)[np.newaxis, :, :]\n",
    "\n",
    "\n",
    "class1_points = []\n",
    "for _ in range(num_points):\n",
    "    class1_points.append(\n",
    "        make_var_len_feature_point(class1_dist))\n",
    "class1_points = np.concatenate(class1_points)\n",
    "    \n",
    "class2_points = []\n",
    "for _ in range(num_points):\n",
    "    class2_points.append(\n",
    "        make_var_len_feature_point(class2_dist))\n",
    "class2_points = np.concatenate(class2_points)"
   ]
  },
  {
   "cell_type": "code",
   "execution_count": 55,
   "metadata": {},
   "outputs": [
    {
     "data": {
      "text/plain": [
       "(5000, 10, 30)"
      ]
     },
     "execution_count": 55,
     "metadata": {},
     "output_type": "execute_result"
    }
   ],
   "source": [
    "class2_points.shape"
   ]
  },
  {
   "cell_type": "code",
   "execution_count": null,
   "metadata": {},
   "outputs": [],
   "source": []
  },
  {
   "cell_type": "code",
   "execution_count": 96,
   "metadata": {},
   "outputs": [],
   "source": [
    "def bootstrap_sample_generator(batch_size):\n",
    "    while True:\n",
    "        batch_idx = np.random.choice(\n",
    "            class1_points.shape[0], batch_size // 2)\n",
    "        batch_x = np.concatenate([\n",
    "            class1_points[batch_idx],\n",
    "            class2_points[batch_idx],\n",
    "        ])\n",
    "        batch_y = np.concatenate([\n",
    "            np.zeros(batch_size // 2),\n",
    "            np.ones(batch_size // 2),\n",
    "        ])\n",
    "        yield ({'numeric_inputs': batch_x}, \n",
    "               {'output': batch_y})"
   ]
  },
  {
   "cell_type": "code",
   "execution_count": 97,
   "metadata": {},
   "outputs": [],
   "source": [
    "for xx in bootstrap_sample_generator(32):\n",
    "    break"
   ]
  },
  {
   "cell_type": "code",
   "execution_count": 98,
   "metadata": {},
   "outputs": [
    {
     "data": {
      "text/plain": [
       "(32, 10, 30)"
      ]
     },
     "execution_count": 98,
     "metadata": {},
     "output_type": "execute_result"
    }
   ],
   "source": [
    "xx[0]['numeric_inputs'].shape"
   ]
  },
  {
   "cell_type": "code",
   "execution_count": null,
   "metadata": {},
   "outputs": [],
   "source": []
  },
  {
   "cell_type": "code",
   "execution_count": 57,
   "metadata": {},
   "outputs": [],
   "source": [
    "from sklearn.preprocessing import StandardScaler"
   ]
  },
  {
   "cell_type": "code",
   "execution_count": 58,
   "metadata": {},
   "outputs": [],
   "source": [
    "ss = StandardScaler()"
   ]
  },
  {
   "cell_type": "code",
   "execution_count": 59,
   "metadata": {},
   "outputs": [],
   "source": [
    "standardized_x = ss.fit_transform(x)"
   ]
  },
  {
   "cell_type": "code",
   "execution_count": null,
   "metadata": {},
   "outputs": [],
   "source": []
  },
  {
   "cell_type": "code",
   "execution_count": null,
   "metadata": {},
   "outputs": [],
   "source": []
  },
  {
   "cell_type": "code",
   "execution_count": 60,
   "metadata": {},
   "outputs": [],
   "source": [
    "p = .1"
   ]
  },
  {
   "cell_type": "code",
   "execution_count": 61,
   "metadata": {},
   "outputs": [],
   "source": [
    "import tensorflow as tf"
   ]
  },
  {
   "cell_type": "code",
   "execution_count": null,
   "metadata": {},
   "outputs": [],
   "source": []
  },
  {
   "cell_type": "code",
   "execution_count": 108,
   "metadata": {},
   "outputs": [],
   "source": [
    "inputs = tf.keras.layers.Input((10, 30), name='numeric_inputs')"
   ]
  },
  {
   "cell_type": "code",
   "execution_count": 109,
   "metadata": {},
   "outputs": [],
   "source": [
    "x = tf.keras.layers.Dropout(p)(inputs)\n",
    "x = tf.keras.layers.Conv1D(10, 1)(x)\n",
    "x = tf.keras.layers.Activation('relu')(x)\n",
    "\n",
    "global_ave = tf.keras.layers.GlobalAveragePooling1D()(x)\n",
    "global_max = tf.keras.layers.GlobalMaxPool1D()(x)\n",
    "x = tf.keras.layers.Concatenate()([global_ave, global_max])"
   ]
  },
  {
   "cell_type": "code",
   "execution_count": null,
   "metadata": {},
   "outputs": [],
   "source": []
  },
  {
   "cell_type": "code",
   "execution_count": 110,
   "metadata": {},
   "outputs": [],
   "source": [
    "# bonus\n",
    "x = tf.keras.layers.RepeatVector(10)(x)\n",
    "x = tf.keras.layers.Concatenate()([inputs, x])\n",
    "\n",
    "x = tf.keras.layers.Dropout(p)(x)\n",
    "x = tf.keras.layers.Conv1D(10, 1)(x)\n",
    "x = tf.keras.layers.Activation('relu')(x)\n",
    "\n",
    "global_ave = tf.keras.layers.GlobalAveragePooling1D()(x)\n",
    "global_max = tf.keras.layers.GlobalMaxPool1D()(x)\n",
    "x = tf.keras.layers.Concatenate()([global_ave, global_max])"
   ]
  },
  {
   "cell_type": "code",
   "execution_count": null,
   "metadata": {},
   "outputs": [],
   "source": []
  },
  {
   "cell_type": "code",
   "execution_count": 111,
   "metadata": {},
   "outputs": [],
   "source": [
    "x = tf.keras.layers.Dropout(p)(x)\n",
    "x = tf.keras.layers.Dense(100, activation='relu')(x)\n",
    "\n",
    "x = tf.keras.layers.BatchNormalization()(x)\n",
    "x = tf.keras.layers.Dropout(p)(x)\n",
    "x = tf.keras.layers.Dense(20, activation='relu')(x)\n",
    "\n",
    "x = tf.keras.layers.BatchNormalization()(x)\n",
    "x = tf.keras.layers.Dropout(p)(x)\n",
    "x = tf.keras.layers.Dense(10, activation='relu')(x)\n",
    "\n",
    "x = tf.keras.layers.BatchNormalization()(x)\n",
    "x = tf.keras.layers.Dropout(p)(x)\n",
    "out = tf.keras.layers.Dense(1, activation='sigmoid', name='output')(x)"
   ]
  },
  {
   "cell_type": "code",
   "execution_count": 112,
   "metadata": {},
   "outputs": [],
   "source": [
    "model = tf.keras.models.Model(inputs=inputs, outputs=out)\n",
    "model.compile(optimizer='rmsprop',\n",
    "              loss='binary_crossentropy',\n",
    "              metrics=['accuracy'])"
   ]
  },
  {
   "cell_type": "code",
   "execution_count": 113,
   "metadata": {},
   "outputs": [
    {
     "name": "stdout",
     "output_type": "stream",
     "text": [
      "Model: \"model_3\"\n",
      "__________________________________________________________________________________________________\n",
      "Layer (type)                    Output Shape         Param #     Connected to                     \n",
      "==================================================================================================\n",
      "numeric_inputs (InputLayer)     [(None, 10, 30)]     0                                            \n",
      "__________________________________________________________________________________________________\n",
      "dropout_15 (Dropout)            (None, 10, 30)       0           numeric_inputs[0][0]             \n",
      "__________________________________________________________________________________________________\n",
      "conv1d_3 (Conv1D)               (None, 10, 10)       310         dropout_15[0][0]                 \n",
      "__________________________________________________________________________________________________\n",
      "activation_2 (Activation)       (None, 10, 10)       0           conv1d_3[0][0]                   \n",
      "__________________________________________________________________________________________________\n",
      "global_average_pooling1d_2 (Glo (None, 10)           0           activation_2[0][0]               \n",
      "__________________________________________________________________________________________________\n",
      "global_max_pooling1d_2 (GlobalM (None, 10)           0           activation_2[0][0]               \n",
      "__________________________________________________________________________________________________\n",
      "concatenate_3 (Concatenate)     (None, 20)           0           global_average_pooling1d_2[0][0] \n",
      "                                                                 global_max_pooling1d_2[0][0]     \n",
      "__________________________________________________________________________________________________\n",
      "repeat_vector_1 (RepeatVector)  (None, 10, 20)       0           concatenate_3[0][0]              \n",
      "__________________________________________________________________________________________________\n",
      "concatenate_4 (Concatenate)     (None, 10, 50)       0           numeric_inputs[0][0]             \n",
      "                                                                 repeat_vector_1[0][0]            \n",
      "__________________________________________________________________________________________________\n",
      "dropout_16 (Dropout)            (None, 10, 50)       0           concatenate_4[0][0]              \n",
      "__________________________________________________________________________________________________\n",
      "conv1d_4 (Conv1D)               (None, 10, 10)       510         dropout_16[0][0]                 \n",
      "__________________________________________________________________________________________________\n",
      "activation_3 (Activation)       (None, 10, 10)       0           conv1d_4[0][0]                   \n",
      "__________________________________________________________________________________________________\n",
      "global_average_pooling1d_3 (Glo (None, 10)           0           activation_3[0][0]               \n",
      "__________________________________________________________________________________________________\n",
      "global_max_pooling1d_3 (GlobalM (None, 10)           0           activation_3[0][0]               \n",
      "__________________________________________________________________________________________________\n",
      "concatenate_5 (Concatenate)     (None, 20)           0           global_average_pooling1d_3[0][0] \n",
      "                                                                 global_max_pooling1d_3[0][0]     \n",
      "__________________________________________________________________________________________________\n",
      "dropout_17 (Dropout)            (None, 20)           0           concatenate_5[0][0]              \n",
      "__________________________________________________________________________________________________\n",
      "dense_9 (Dense)                 (None, 100)          2100        dropout_17[0][0]                 \n",
      "__________________________________________________________________________________________________\n",
      "batch_normalization_v2_9 (Batch (None, 100)          400         dense_9[0][0]                    \n",
      "__________________________________________________________________________________________________\n",
      "dropout_18 (Dropout)            (None, 100)          0           batch_normalization_v2_9[0][0]   \n",
      "__________________________________________________________________________________________________\n",
      "dense_10 (Dense)                (None, 20)           2020        dropout_18[0][0]                 \n",
      "__________________________________________________________________________________________________\n",
      "batch_normalization_v2_10 (Batc (None, 20)           80          dense_10[0][0]                   \n",
      "__________________________________________________________________________________________________\n",
      "dropout_19 (Dropout)            (None, 20)           0           batch_normalization_v2_10[0][0]  \n",
      "__________________________________________________________________________________________________\n",
      "dense_11 (Dense)                (None, 10)           210         dropout_19[0][0]                 \n",
      "__________________________________________________________________________________________________\n",
      "batch_normalization_v2_11 (Batc (None, 10)           40          dense_11[0][0]                   \n",
      "__________________________________________________________________________________________________\n",
      "dropout_20 (Dropout)            (None, 10)           0           batch_normalization_v2_11[0][0]  \n",
      "__________________________________________________________________________________________________\n",
      "output (Dense)                  (None, 1)            11          dropout_20[0][0]                 \n",
      "==================================================================================================\n",
      "Total params: 5,681\n",
      "Trainable params: 5,421\n",
      "Non-trainable params: 260\n",
      "__________________________________________________________________________________________________\n"
     ]
    }
   ],
   "source": [
    "model.summary()"
   ]
  },
  {
   "cell_type": "code",
   "execution_count": 114,
   "metadata": {},
   "outputs": [
    {
     "name": "stdout",
     "output_type": "stream",
     "text": [
      "Epoch 1/5\n",
      "312/312 [==============================] - 5s 16ms/step - loss: 0.5168 - accuracy: 0.7432\n",
      "Epoch 2/5\n",
      "312/312 [==============================] - 1s 4ms/step - loss: 0.2538 - accuracy: 0.8995\n",
      "Epoch 3/5\n",
      "312/312 [==============================] - 1s 4ms/step - loss: 0.1723 - accuracy: 0.9353\n",
      "Epoch 4/5\n",
      "312/312 [==============================] - 1s 4ms/step - loss: 0.1461 - accuracy: 0.9457\n",
      "Epoch 5/5\n",
      "312/312 [==============================] - 1s 4ms/step - loss: 0.1354 - accuracy: 0.9488\n"
     ]
    },
    {
     "data": {
      "text/plain": [
       "<tensorflow.python.keras.callbacks.History at 0x140710da0>"
      ]
     },
     "execution_count": 114,
     "metadata": {},
     "output_type": "execute_result"
    }
   ],
   "source": [
    "batch_size = 32\n",
    "\n",
    "model.fit_generator(\n",
    "    bootstrap_sample_generator(batch_size),\n",
    "    steps_per_epoch=10_000 // batch_size,\n",
    "    epochs=5,\n",
    "    max_queue_size=10,\n",
    ")"
   ]
  },
  {
   "cell_type": "code",
   "execution_count": null,
   "metadata": {},
   "outputs": [],
   "source": []
  },
  {
   "cell_type": "code",
   "execution_count": null,
   "metadata": {},
   "outputs": [],
   "source": []
  },
  {
   "cell_type": "code",
   "execution_count": null,
   "metadata": {},
   "outputs": [],
   "source": []
  }
 ],
 "metadata": {
  "kernelspec": {
   "display_name": "Python 3",
   "language": "python",
   "name": "python3"
  },
  "language_info": {
   "codemirror_mode": {
    "name": "ipython",
    "version": 3
   },
   "file_extension": ".py",
   "mimetype": "text/x-python",
   "name": "python",
   "nbconvert_exporter": "python",
   "pygments_lexer": "ipython3",
   "version": "3.6.8"
  }
 },
 "nbformat": 4,
 "nbformat_minor": 2
}
